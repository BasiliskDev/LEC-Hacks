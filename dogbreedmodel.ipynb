{
  "cells": [
    {
      "cell_type": "markdown",
      "metadata": {
        "id": "view-in-github",
        "colab_type": "text"
      },
      "source": [
        "<a href=\"https://colab.research.google.com/github/aRandomAlexa/LEC-Hacks/blob/main/dogbreedmodel.ipynb\" target=\"_parent\"><img src=\"https://colab.research.google.com/assets/colab-badge.svg\" alt=\"Open In Colab\"/></a>"
      ]
    },
    {
      "cell_type": "code",
      "execution_count": null,
      "metadata": {
        "id": "wjyjjRJr0eig"
      },
      "outputs": [],
      "source": []
    },
    {
      "cell_type": "code",
      "execution_count": null,
      "metadata": {
        "id": "42Eln8oY0jt-"
      },
      "outputs": [],
      "source": [
        "from google.colab import drive\n",
        "drive.mount('/content/drive')"
      ]
    },
    {
      "cell_type": "code",
      "execution_count": null,
      "metadata": {
        "id": "-PwDJTzt7AlR"
      },
      "outputs": [],
      "source": [
        "import os\n",
        "from google.colab import drive\n",
        "drive.mount('/content/drive')\n",
        "checkpoints = '/content/drive/MyDrive/colab_files/'\n",
        "if not os.path.exists(checkpoints):\n",
        "    os.makedirs(checkpoints)"
      ]
    },
    {
      "cell_type": "code",
      "execution_count": null,
      "metadata": {
        "id": "4rZflTnm7A3M"
      },
      "outputs": [],
      "source": [
        "import os\n",
        "import shutil\n",
        "if not os.path.exists('imagenet64'):\n",
        "  if not os.path.exists(checkpoints + 'images.tar'):\n",
        "    print(\"Downloading archive...\")\n",
        "    os.chdir(checkpoints)\n",
        "    !wget http://vision.stanford.edu/aditya86/ImageNetDogs/images.tar\n",
        "    os.chdir('/content/')\n",
        "  print(\"Copying to local runtime...\")\n",
        "  shutil.copy(checkpoints + 'images.tar', './images.tar')\n",
        "  print(\"Uncompressing...\")\n",
        "  !tar -xf images.tar\n",
        "print(\"Data ready!\")"
      ]
    },
    {
      "cell_type": "code",
      "execution_count": null,
      "metadata": {
        "id": "YRt55azi0gXf"
      },
      "outputs": [],
      "source": [
        "import torch\n",
        "import torchvision\n",
        "import torchvision.transforms as transforms\n",
        "\n",
        "# Set device\n",
        "device = torch.device(\"cuda\" if torch.cuda.is_available() else \"cpu\")\n",
        "\n",
        "# Set hyperparameters\n",
        "num_epochs = 45\n",
        "batch_size = 256\n",
        "learning_rate = 0.001\n",
        "\n",
        "# Initialize transformations for data augmentation\n",
        "transform = transforms.Compose([\n",
        "    transforms.Resize(256),\n",
        "    transforms.RandomHorizontalFlip(),\n",
        "    transforms.RandomVerticalFlip(),\n",
        "    transforms.RandomRotation(degrees=45),\n",
        "    transforms.ColorJitter(brightness=0.5, contrast=0.5, saturation=0.5, hue=0.5),\n",
        "    transforms.CenterCrop(224),\n",
        "    transforms.ToTensor(),\n",
        "    transforms.Normalize([0.485, 0.456, 0.406], [0.229, 0.224, 0.225])\n",
        "])\n",
        "\n",
        "# Load the ImageNet Object Localization Challenge dataset\n",
        "train_dataset = torchvision.datasets.ImageFolder(\n",
        "    root='./Images',\n",
        "    transform=transform\n",
        ")\n",
        "\n",
        "\n",
        "train_loader = torch.utils.data.DataLoader(train_dataset, batch_size=batch_size, shuffle=True, num_workers=2)\n",
        "\n",
        "# Load the ResNet50 model\n",
        "model = torchvision.models.resnet50(pretrained=True)\n",
        "\n",
        "# Freeze the parameters of the model\n",
        "for param in model.parameters():\n",
        "    param.requires_grad = False\n",
        "\n",
        "model.fc = torch.nn.Sequential(torch.nn.Linear(model.fc.in_features, 120))\n",
        "\n",
        "# Set the model to run on the device\n",
        "model = model.to(device)\n",
        "\n",
        "\n",
        "model.load_state_dict(torch.load(\"/content/drive/MyDrive/colab_files/model.pt\"));\n",
        "\n",
        "# Define the loss function and optimizer\n",
        "criterion = torch.nn.CrossEntropyLoss().to(device)\n",
        "optimizer = torch.optim.Adam(model.parameters(), lr=learning_rate)\n",
        "\n",
        "def train(network, data, loss_function, op, epochs):\n",
        "    for epoch in range(epochs):\n",
        "        counter = 0\n",
        "        correct = 0\n",
        "        total = 0\n",
        "        # Loop over the dataloader\n",
        "        for inputs, labels in data:\n",
        "\n",
        "            #calculating loss/training\n",
        "            network.train()\n",
        "            inputs = inputs.to(device, non_blocking=True)\n",
        "            labels = labels.to(device, non_blocking=True)\n",
        "            # Forward pass\n",
        "            outputs = model(inputs)\n",
        "            loss = loss_function(outputs, labels)\n",
        "            # Backward pass\n",
        "            op.zero_grad()\n",
        "            loss.backward()\n",
        "            op.step()\n",
        "\n",
        "            #getting accuracy\n",
        "            network.eval()\n",
        "            outputs = network(inputs)\n",
        "            _, predicted = torch.max(outputs.data, 1)\n",
        "            t = labels.size(0)\n",
        "            c = (predicted == labels).sum().item()\n",
        "            counter += 1\n",
        "\n",
        "            total += t\n",
        "            correct += c\n",
        "\n",
        "            if (counter%10 == 0):\n",
        "                print(f'Set [{epoch+1}, {counter}], Loss: {loss.item():.4f}, Acc: {c/t:.4f}')\n",
        "\n",
        "        print(f'Average Acc: {correct/total:.4f}')\n",
        "        torch.save(model.state_dict(), \"/content/drive/MyDrive/colab_files/model.pt\")\n",
        "\n",
        "\n",
        "train(model, train_loader, criterion, optimizer, num_epochs);\n",
        "def accuracy(net, dataloader):\n",
        "    net.to(device)\n",
        "    net.eval()\n",
        "    correct = 0\n",
        "    total = 0\n",
        "    with torch.no_grad():\n",
        "        counter = 0;\n",
        "        for batch in dataloader:\n",
        "            images, labels = batch[0].to(device), batch[1].to(device)\n",
        "            outputs = net(images)\n",
        "            _, predicted = torch.max(outputs.data, 1)\n",
        "            total += labels.size(0)\n",
        "            correct += (predicted == labels).sum().item()\n",
        "            counter += 1;\n",
        "            if (counter%10 == 0):\n",
        "                print(f'Set [{counter}], Accuracy: {(predicted == labels).sum().item()/labels.size(0)}')\n",
        "    return correct/total\n",
        "\n",
        "torch.save(model.state_dict(), \"/content/drive/MyDrive/colab_files/model.pt\")\n",
        "\n",
        "print(f'accuracy: {accuracy(model, train_loader)}')\n"
      ]
    },
    {
      "cell_type": "code",
      "execution_count": null,
      "metadata": {
        "id": "ByG8w0ZMeLU9"
      },
      "outputs": [],
      "source": [
        "print(train_dataset.classes)\n",
        "\n",
        "# prepare to count predictions for each class\n",
        "correct_pred = {classname: 0 for classname in train_dataset.classes}\n",
        "total_pred = {classname: 0 for classname in train_dataset.classes}\n",
        "\n",
        "# again no gradients needed\n",
        "with torch.no_grad():\n",
        "    for images, labels in train_loader:\n",
        "        images = images.to(device)\n",
        "        labels = labels.to(device)\n",
        "        # calculate outputs by running images through the network\n",
        "        outputs = model(images)\n",
        "        _, predictions = torch.max(outputs, 1)\n",
        "        # collect the correct predictions for each class\n",
        "        for label, prediction in zip(labels, predictions):\n",
        "            if label == prediction:\n",
        "                correct_pred[train_dataset.classes[label]] += 1\n",
        "            total_pred[train_dataset.classes[label]] += 1\n",
        "\n",
        "\n",
        "# print accuracy for each class\n",
        "for classname, correct_count in correct_pred.items():\n",
        "    accuracy = 100 * float(correct_count) / total_pred[classname]\n",
        "    print(f'Accuracy for class: {classname:5s} is {accuracy:.1f} %')"
      ]
    },
    {
      "cell_type": "code",
      "execution_count": null,
      "metadata": {
        "colab": {
          "base_uri": "https://localhost:8080/"
        },
        "id": "7RVlo2s6_VNd",
        "outputId": "3738270f-6434-4923-a7ce-8a64f43234c1"
      },
      "outputs": [
        {
          "output_type": "stream",
          "name": "stdout",
          "text": [
            "Predicted: n02098105-soft-coated_wheaten_terrier\n"
          ]
        }
      ],
      "source": [
        "from PIL import Image\n",
        "import matplotlib\n",
        "import numpy as np\n",
        "\n",
        "img = Image.open(\"IMG_1784.jpeg\")\n",
        "\n",
        "img = transform(img)\n",
        "\n",
        "\n",
        "\n",
        "if torch.cuda.is_available():\n",
        "    model = model.cuda()\n",
        "    img = img.cuda()  # Make sure the input data is also on the GPU\n",
        "else:\n",
        "    model = model.cpu()\n",
        "    img = img.cpu()\n",
        "\n",
        "img = img.unsqueeze(0)\n",
        "\n",
        "model.eval()\n",
        "outputs = model(img)\n",
        "outputs = torch.nn.functional.softmax(outputs, dim=1)\n",
        "_ , predicted = torch.max(outputs, 1)\n",
        "\n",
        "print(f'Predicted: {train_dataset.classes[predicted.item()]}')\n"
      ]
    }
  ],
  "metadata": {
    "accelerator": "GPU",
    "colab": {
      "machine_shape": "hm",
      "provenance": [],
      "mount_file_id": "1i74dLRR-1S8O0D6cLac4W1JDVtS-ioUl",
      "authorship_tag": "ABX9TyPSe/0/s9QV1pF9ua8eSAXn",
      "include_colab_link": true
    },
    "kernelspec": {
      "display_name": "Python 3",
      "name": "python3"
    },
    "language_info": {
      "name": "python"
    }
  },
  "nbformat": 4,
  "nbformat_minor": 0
}